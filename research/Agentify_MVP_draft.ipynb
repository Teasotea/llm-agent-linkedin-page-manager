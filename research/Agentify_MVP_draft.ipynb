{
  "nbformat": 4,
  "nbformat_minor": 0,
  "metadata": {
    "colab": {
      "provenance": []
    },
    "kernelspec": {
      "name": "python3",
      "display_name": "Python 3"
    },
    "language_info": {
      "name": "python"
    },
    "widgets": {
      "application/vnd.jupyter.widget-state+json": {
        "8c3dbc95782e4ded8d80339cad8688fa": {
          "model_module": "@jupyter-widgets/controls",
          "model_name": "TextareaModel",
          "model_module_version": "1.5.0",
          "state": {
            "_dom_classes": [],
            "_model_module": "@jupyter-widgets/controls",
            "_model_module_version": "1.5.0",
            "_model_name": "TextareaModel",
            "_view_count": null,
            "_view_module": "@jupyter-widgets/controls",
            "_view_module_version": "1.5.0",
            "_view_name": "TextareaView",
            "continuous_update": true,
            "description": "Skeleton:",
            "description_tooltip": null,
            "disabled": false,
            "layout": "IPY_MODEL_e4601cac512243479320404e72e92929",
            "placeholder": "paste here your skeleton",
            "rows": null,
            "style": "IPY_MODEL_062027b284c44466bd3ee0aa03d6b607",
            "value": "Skeleton for 'Mock interview platforms with AI-driven feedback':\nI. Introduction  \n   A. Definition of mock interview platforms  \n   B. Importance of interview preparation  \n   C. Introduction of AI-driven feedback  \n\nII. Overview of Mock Interview Platforms  \n   A. Purpose and benefits  \n      1. Practice interview skills  \n      2. Build confidence  \n      3. Familiarize with common interview questions  \n   B. Types of mock interview platforms  \n      1. Video-based platforms  \n      2. Text-based platforms"
          }
        },
        "e4601cac512243479320404e72e92929": {
          "model_module": "@jupyter-widgets/base",
          "model_name": "LayoutModel",
          "model_module_version": "1.2.0",
          "state": {
            "_model_module": "@jupyter-widgets/base",
            "_model_module_version": "1.2.0",
            "_model_name": "LayoutModel",
            "_view_count": null,
            "_view_module": "@jupyter-widgets/base",
            "_view_module_version": "1.2.0",
            "_view_name": "LayoutView",
            "align_content": null,
            "align_items": null,
            "align_self": null,
            "border": null,
            "bottom": null,
            "display": null,
            "flex": null,
            "flex_flow": null,
            "grid_area": null,
            "grid_auto_columns": null,
            "grid_auto_flow": null,
            "grid_auto_rows": null,
            "grid_column": null,
            "grid_gap": null,
            "grid_row": null,
            "grid_template_areas": null,
            "grid_template_columns": null,
            "grid_template_rows": null,
            "height": "100px",
            "justify_content": null,
            "justify_items": null,
            "left": null,
            "margin": null,
            "max_height": null,
            "max_width": null,
            "min_height": null,
            "min_width": null,
            "object_fit": null,
            "object_position": null,
            "order": null,
            "overflow": null,
            "overflow_x": null,
            "overflow_y": null,
            "padding": null,
            "right": null,
            "top": null,
            "visibility": null,
            "width": "50%"
          }
        },
        "062027b284c44466bd3ee0aa03d6b607": {
          "model_module": "@jupyter-widgets/controls",
          "model_name": "DescriptionStyleModel",
          "model_module_version": "1.5.0",
          "state": {
            "_model_module": "@jupyter-widgets/controls",
            "_model_module_version": "1.5.0",
            "_model_name": "DescriptionStyleModel",
            "_view_count": null,
            "_view_module": "@jupyter-widgets/base",
            "_view_module_version": "1.2.0",
            "_view_name": "StyleView",
            "description_width": ""
          }
        },
        "bc22307cd14c4426b92ebe4e64bb6cff": {
          "model_module": "@jupyter-widgets/controls",
          "model_name": "ButtonModel",
          "model_module_version": "1.5.0",
          "state": {
            "_dom_classes": [],
            "_model_module": "@jupyter-widgets/controls",
            "_model_module_version": "1.5.0",
            "_model_name": "ButtonModel",
            "_view_count": null,
            "_view_module": "@jupyter-widgets/controls",
            "_view_module_version": "1.5.0",
            "_view_name": "ButtonView",
            "button_style": "success",
            "description": "Submit",
            "disabled": false,
            "icon": "",
            "layout": "IPY_MODEL_0de50fa660da4276a87511a0c7f51719",
            "style": "IPY_MODEL_40c9862926d841b3979623cfe8648c8b",
            "tooltip": ""
          }
        },
        "0de50fa660da4276a87511a0c7f51719": {
          "model_module": "@jupyter-widgets/base",
          "model_name": "LayoutModel",
          "model_module_version": "1.2.0",
          "state": {
            "_model_module": "@jupyter-widgets/base",
            "_model_module_version": "1.2.0",
            "_model_name": "LayoutModel",
            "_view_count": null,
            "_view_module": "@jupyter-widgets/base",
            "_view_module_version": "1.2.0",
            "_view_name": "LayoutView",
            "align_content": null,
            "align_items": null,
            "align_self": null,
            "border": null,
            "bottom": null,
            "display": null,
            "flex": null,
            "flex_flow": null,
            "grid_area": null,
            "grid_auto_columns": null,
            "grid_auto_flow": null,
            "grid_auto_rows": null,
            "grid_column": null,
            "grid_gap": null,
            "grid_row": null,
            "grid_template_areas": null,
            "grid_template_columns": null,
            "grid_template_rows": null,
            "height": null,
            "justify_content": null,
            "justify_items": null,
            "left": null,
            "margin": null,
            "max_height": null,
            "max_width": null,
            "min_height": null,
            "min_width": null,
            "object_fit": null,
            "object_position": null,
            "order": null,
            "overflow": null,
            "overflow_x": null,
            "overflow_y": null,
            "padding": null,
            "right": null,
            "top": null,
            "visibility": null,
            "width": null
          }
        },
        "40c9862926d841b3979623cfe8648c8b": {
          "model_module": "@jupyter-widgets/controls",
          "model_name": "ButtonStyleModel",
          "model_module_version": "1.5.0",
          "state": {
            "_model_module": "@jupyter-widgets/controls",
            "_model_module_version": "1.5.0",
            "_model_name": "ButtonStyleModel",
            "_view_count": null,
            "_view_module": "@jupyter-widgets/base",
            "_view_module_version": "1.2.0",
            "_view_name": "StyleView",
            "button_color": null,
            "font_weight": ""
          }
        }
      }
    }
  },
  "cells": [
    {
      "cell_type": "markdown",
      "source": [
        "# Step 0: Set up\n",
        "\n",
        "Add the OpenAI API key.\n",
        "Go to the \"key\" tab and paste the `OPEN_AI_API_Agentify` variable."
      ],
      "metadata": {
        "id": "xd1huN4adZhK"
      }
    },
    {
      "cell_type": "code",
      "source": [
        "!pip install openai"
      ],
      "metadata": {
        "colab": {
          "base_uri": "https://localhost:8080/"
        },
        "id": "zgtjrHw_dyEK",
        "outputId": "501f8969-813b-46d2-c4a2-4ace3525e5eb"
      },
      "execution_count": null,
      "outputs": [
        {
          "output_type": "stream",
          "name": "stdout",
          "text": [
            "Requirement already satisfied: openai in /usr/local/lib/python3.10/dist-packages (1.54.3)\n",
            "Requirement already satisfied: anyio<5,>=3.5.0 in /usr/local/lib/python3.10/dist-packages (from openai) (3.7.1)\n",
            "Requirement already satisfied: distro<2,>=1.7.0 in /usr/local/lib/python3.10/dist-packages (from openai) (1.9.0)\n",
            "Requirement already satisfied: httpx<1,>=0.23.0 in /usr/local/lib/python3.10/dist-packages (from openai) (0.27.2)\n",
            "Requirement already satisfied: jiter<1,>=0.4.0 in /usr/local/lib/python3.10/dist-packages (from openai) (0.7.0)\n",
            "Requirement already satisfied: pydantic<3,>=1.9.0 in /usr/local/lib/python3.10/dist-packages (from openai) (2.9.2)\n",
            "Requirement already satisfied: sniffio in /usr/local/lib/python3.10/dist-packages (from openai) (1.3.1)\n",
            "Requirement already satisfied: tqdm>4 in /usr/local/lib/python3.10/dist-packages (from openai) (4.66.6)\n",
            "Requirement already satisfied: typing-extensions<5,>=4.11 in /usr/local/lib/python3.10/dist-packages (from openai) (4.12.2)\n",
            "Requirement already satisfied: idna>=2.8 in /usr/local/lib/python3.10/dist-packages (from anyio<5,>=3.5.0->openai) (3.10)\n",
            "Requirement already satisfied: exceptiongroup in /usr/local/lib/python3.10/dist-packages (from anyio<5,>=3.5.0->openai) (1.2.2)\n",
            "Requirement already satisfied: certifi in /usr/local/lib/python3.10/dist-packages (from httpx<1,>=0.23.0->openai) (2024.8.30)\n",
            "Requirement already satisfied: httpcore==1.* in /usr/local/lib/python3.10/dist-packages (from httpx<1,>=0.23.0->openai) (1.0.6)\n",
            "Requirement already satisfied: h11<0.15,>=0.13 in /usr/local/lib/python3.10/dist-packages (from httpcore==1.*->httpx<1,>=0.23.0->openai) (0.14.0)\n",
            "Requirement already satisfied: annotated-types>=0.6.0 in /usr/local/lib/python3.10/dist-packages (from pydantic<3,>=1.9.0->openai) (0.7.0)\n",
            "Requirement already satisfied: pydantic-core==2.23.4 in /usr/local/lib/python3.10/dist-packages (from pydantic<3,>=1.9.0->openai) (2.23.4)\n"
          ]
        }
      ]
    },
    {
      "cell_type": "code",
      "source": [
        "from google.colab import userdata\n",
        "from openai import OpenAI\n",
        "\n",
        "OPEN_AI_API_Agentify = userdata.get('OPEN_AI_API_Agentify')\n",
        "client = OpenAI(api_key=OPEN_AI_API_Agentify)"
      ],
      "metadata": {
        "id": "9YUJ3QyEeiV4"
      },
      "execution_count": 11,
      "outputs": []
    },
    {
      "cell_type": "code",
      "source": [
        "def get_response_OpenAI(prompt: str, model_name: str = \"gpt-4o-mini\", max_tokens: int = 20) -> str:\n",
        "    response = client.chat.completions.create(\n",
        "        model=model_name,\n",
        "        messages=[\n",
        "            { \"role\": \"system\", \"content\": \"You are a helpful assistant.\" },\n",
        "            {\n",
        "                \"role\": \"user\",\n",
        "                \"content\": prompt,\n",
        "            }\n",
        "        ],\n",
        "        n=1,\n",
        "        temperature=0.0,\n",
        "        max_tokens=max_tokens,  # to make responces shorter\n",
        "        seed=42,\n",
        "    )\n",
        "    content = response.choices[0].message.content\n",
        "    return content"
      ],
      "metadata": {
        "id": "pChKcTh9riIW"
      },
      "execution_count": 46,
      "outputs": []
    },
    {
      "cell_type": "markdown",
      "source": [
        "# Step 1: Set topics"
      ],
      "metadata": {
        "id": "AMu9SA2BBjIW"
      }
    },
    {
      "cell_type": "code",
      "source": [
        "proposed_topics = \"FAANG interviews, LLM agents\" # @param {type:\"string\", placeholder:\"Enter topics separated by commas\"}"
      ],
      "metadata": {
        "id": "fBG85zo4Fujo"
      },
      "execution_count": 20,
      "outputs": []
    },
    {
      "cell_type": "code",
      "source": [
        "topics = [item.strip() for item in proposed_topics.split(\",\")]"
      ],
      "metadata": {
        "id": "tFKrwgUsvVKE"
      },
      "execution_count": 21,
      "outputs": []
    },
    {
      "cell_type": "markdown",
      "source": [
        "# Step 2: Prepare post ideas"
      ],
      "metadata": {
        "id": "PTkxrbFcBrpP"
      }
    },
    {
      "cell_type": "code",
      "source": [
        "from typing import List\n",
        "\n",
        "def get_ideas_on_topic(topic: str) -> List[str]:\n",
        "    response = get_response_OpenAI(\"Generate 2 ideas on the given topic int the format \\\"Idea #1, Idea #2\\\". Output only ideas, separated by commas. TOPIC: \" + topic)\n",
        "    ideas = [item.strip() for item in response.split(\",\")]\n",
        "    return ideas"
      ],
      "metadata": {
        "id": "WWwjIPlfHPIJ"
      },
      "execution_count": 29,
      "outputs": []
    },
    {
      "cell_type": "code",
      "source": [
        "print(\"\\nSuggested post ideas:\")\n",
        "for topic in topics:\n",
        "    print(f\"\\n{topic}:\")\n",
        "    ideas = get_ideas_on_topic(topic)\n",
        "    for idea in ideas:\n",
        "        print(f\" - {idea}\")"
      ],
      "metadata": {
        "colab": {
          "base_uri": "https://localhost:8080/"
        },
        "id": "oXgyGp-FCIPR",
        "outputId": "233b79ba-047e-4094-f020-fc844caec9ec"
      },
      "execution_count": 30,
      "outputs": [
        {
          "output_type": "stream",
          "name": "stdout",
          "text": [
            "\n",
            "Suggested post ideas:\n",
            "\n",
            "FAANG interviews:\n",
            " - Mock interview platforms with AI-driven feedback\n",
            " - Comprehensive study guides with real interview questions and solutions.\n",
            "\n",
            "LLM agents:\n",
            " - Idea #1: Develop a personalized LLM agent that learns from user interactions to provide tailored recommendations for\n"
          ]
        }
      ]
    },
    {
      "cell_type": "markdown",
      "source": [
        "# Step 3: Prepare post skeletons"
      ],
      "metadata": {
        "id": "9hB6KFs5CSch"
      }
    },
    {
      "cell_type": "code",
      "source": [
        "def get_skeleton_for_idea(idea: str) -> str:\n",
        "    skeleton = get_response_OpenAI(\n",
        "        \"Generate a skeleton for the idea: \" + idea + \"\\n\\nNo extra formating, just plain text.\\nSkeleton – (or “post skeleton”) a basic outline that organizes the main points, sections, and flow of the content on a specific idea before it's fully written.\",\n",
        "        max_tokens=100,\n",
        "    )\n",
        "    return skeleton"
      ],
      "metadata": {
        "id": "L4VmfAN6JBJm"
      },
      "execution_count": 50,
      "outputs": []
    },
    {
      "cell_type": "code",
      "source": [
        "selected_idea = \"Mock interview platforms with AI-driven feedback\" # @param {type:\"string\", placeholder:\"paste here your idea\"}"
      ],
      "metadata": {
        "id": "bFCh9OhTI2i1"
      },
      "execution_count": 51,
      "outputs": []
    },
    {
      "cell_type": "code",
      "source": [
        "print(f\"\\nSkeleton for '{selected_idea}':\")\n",
        "skeleton = get_skeleton_for_idea(selected_idea)\n",
        "print(skeleton)"
      ],
      "metadata": {
        "colab": {
          "base_uri": "https://localhost:8080/"
        },
        "id": "F86LMwXMJ2Ht",
        "outputId": "cf75442b-ae83-4792-9f89-89c033d830e5"
      },
      "execution_count": 54,
      "outputs": [
        {
          "output_type": "stream",
          "name": "stdout",
          "text": [
            "\n",
            "Skeleton for 'Mock interview platforms with AI-driven feedback':\n",
            "I. Introduction  \n",
            "   A. Definition of mock interview platforms  \n",
            "   B. Importance of interview preparation  \n",
            "   C. Introduction to AI-driven feedback  \n",
            "\n",
            "II. Overview of Mock Interview Platforms  \n",
            "   A. Purpose and benefits  \n",
            "      1. Practice interview skills  \n",
            "      2. Build confidence  \n",
            "      3. Familiarize with common interview questions  \n",
            "   B. Types of mock interview platforms  \n",
            "      1. Video-based platforms  \n",
            "      2. Text-based platforms  \n",
            "      3.\n"
          ]
        }
      ]
    },
    {
      "cell_type": "markdown",
      "source": [
        "# Step 4: Prepare post content"
      ],
      "metadata": {
        "id": "l03Lx4O2KLOI"
      }
    },
    {
      "cell_type": "code",
      "source": [
        "def get_content_for_skeleton(skeleton: str) -> str:\n",
        "    content = get_response_OpenAI(\n",
        "        \"Generate a post content for LinkedIn based on the skeleton: \" + skeleton,\n",
        "        max_tokens=500,\n",
        "    )\n",
        "    return content"
      ],
      "metadata": {
        "id": "pDaTyow3KO9U"
      },
      "execution_count": 55,
      "outputs": []
    },
    {
      "cell_type": "code",
      "source": [
        "import ipywidgets as widgets\n",
        "from IPython.display import display\n",
        "\n",
        "# Create two textarea widgets\n",
        "textarea1 = widgets.Textarea(\n",
        "    value='',\n",
        "    placeholder='paste here your skeleton',\n",
        "    description='Skeleton:',\n",
        "    layout=widgets.Layout(width='50%', height='100px')\n",
        ")\n",
        "\n",
        "# Create a button widget\n",
        "button = widgets.Button(\n",
        "    description='Submit',\n",
        "    button_style='success'\n",
        ")\n",
        "\n",
        "# Define the button click event\n",
        "def on_button_click(b):\n",
        "    print(f\"\\nContent for selected skeleton:\")\n",
        "    content = get_content_for_skeleton(textarea1.value)\n",
        "    print(content)\n",
        "    #selected_skeleton = textarea1.value\n",
        "    #print(\"Skeleton selected:\")\n",
        "    #print(selected_skeleton)\n",
        "\n",
        "button.on_click(on_button_click)\n",
        "\n",
        "# Display the widgets\n",
        "display(textarea1, button)"
      ],
      "metadata": {
        "colab": {
          "base_uri": "https://localhost:8080/",
          "height": 676,
          "referenced_widgets": [
            "8c3dbc95782e4ded8d80339cad8688fa",
            "e4601cac512243479320404e72e92929",
            "062027b284c44466bd3ee0aa03d6b607",
            "bc22307cd14c4426b92ebe4e64bb6cff",
            "0de50fa660da4276a87511a0c7f51719",
            "40c9862926d841b3979623cfe8648c8b"
          ]
        },
        "id": "PdM63m90K-_f",
        "outputId": "a159736d-b934-4e36-c5d5-4ba2ee40647c"
      },
      "execution_count": 56,
      "outputs": [
        {
          "output_type": "display_data",
          "data": {
            "text/plain": [
              "Textarea(value='', description='Skeleton:', layout=Layout(height='100px', width='50%'), placeholder='paste her…"
            ],
            "application/vnd.jupyter.widget-view+json": {
              "version_major": 2,
              "version_minor": 0,
              "model_id": "8c3dbc95782e4ded8d80339cad8688fa"
            }
          },
          "metadata": {}
        },
        {
          "output_type": "display_data",
          "data": {
            "text/plain": [
              "Button(button_style='success', description='Submit', style=ButtonStyle())"
            ],
            "application/vnd.jupyter.widget-view+json": {
              "version_major": 2,
              "version_minor": 0,
              "model_id": "bc22307cd14c4426b92ebe4e64bb6cff"
            }
          },
          "metadata": {}
        },
        {
          "output_type": "stream",
          "name": "stdout",
          "text": [
            "\n",
            "Content for selected skeleton:\n",
            "**Unlocking Your Interview Potential: The Power of Mock Interview Platforms with AI-Driven Feedback**\n",
            "\n",
            "In today's competitive job market, the interview process can be daunting. Mock interview platforms have emerged as essential tools for job seekers, providing a safe space to practice and refine their interview skills. These platforms simulate real interview scenarios, allowing candidates to prepare effectively and boost their confidence before facing potential employers.\n",
            "\n",
            "**Why is Interview Preparation Crucial?**  \n",
            "Interviews are often the deciding factor in landing a job. They not only assess your qualifications but also evaluate your communication skills, problem-solving abilities, and cultural fit within a company. Proper preparation can make all the difference, transforming anxiety into assurance.\n",
            "\n",
            "**Enter AI-Driven Feedback**  \n",
            "The latest advancement in mock interview platforms is the integration of AI-driven feedback. This innovative technology analyzes your performance in real-time, offering personalized insights and constructive criticism. With AI, candidates can receive tailored advice on body language, tone, and even the content of their responses, making preparation more effective than ever.\n",
            "\n",
            "**Overview of Mock Interview Platforms**  \n",
            "Mock interview platforms serve a dual purpose: they provide a space for practice and a means to gain valuable feedback. Here are some key benefits:\n",
            "\n",
            "1. **Practice Interview Skills**: Regular practice helps candidates articulate their thoughts clearly and confidently.\n",
            "2. **Build Confidence**: Familiarity with the interview process reduces anxiety and builds self-assurance.\n",
            "3. **Familiarize with Common Interview Questions**: Candidates can prepare for frequently asked questions, ensuring they are ready to impress.\n",
            "\n",
            "**Types of Mock Interview Platforms**  \n",
            "Mock interview platforms come in various formats to suit different learning styles:\n",
            "\n",
            "1. **Video-Based Platforms**: These platforms simulate face-to-face interviews, allowing candidates to practice their verbal and non-verbal communication skills. They often include features like recording and playback, enabling users to review their performance.\n",
            "   \n",
            "2. **Text-Based Platforms**: Ideal for those who prefer written communication, these platforms focus on answering questions in a text format. They can be particularly useful for roles that require strong writing skills or for candidates who may be more comfortable expressing themselves in writing.\n",
            "\n",
            "In conclusion, mock interview platforms with AI-driven feedback are revolutionizing the way candidates prepare for interviews. By leveraging technology, job seekers can enhance their skills, build confidence, and ultimately increase their chances of success in the job market. Embrace the future of interview preparation and take your career to the next level! \n",
            "\n",
            "#JobInterview #CareerDevelopment #MockInterviews\n"
          ]
        }
      ]
    },
    {
      "cell_type": "code",
      "source": [],
      "metadata": {
        "id": "2WvWhFt3Lz5B"
      },
      "execution_count": null,
      "outputs": []
    }
  ]
}