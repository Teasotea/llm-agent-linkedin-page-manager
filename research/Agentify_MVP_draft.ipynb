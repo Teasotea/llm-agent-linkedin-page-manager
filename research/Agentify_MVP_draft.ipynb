{
  "nbformat": 4,
  "nbformat_minor": 0,
  "metadata": {
    "colab": {
      "provenance": []
    },
    "kernelspec": {
      "name": "python3",
      "display_name": "Python 3"
    },
    "language_info": {
      "name": "python"
    },
    "widgets": {
      "application/vnd.jupyter.widget-state+json": {
        "6520cea96c18472e8d181b92a22e596b": {
          "model_module": "@jupyter-widgets/controls",
          "model_name": "TextareaModel",
          "model_module_version": "1.5.0",
          "state": {
            "_dom_classes": [],
            "_model_module": "@jupyter-widgets/controls",
            "_model_module_version": "1.5.0",
            "_model_name": "TextareaModel",
            "_view_count": null,
            "_view_module": "@jupyter-widgets/controls",
            "_view_module_version": "1.5.0",
            "_view_name": "TextareaView",
            "continuous_update": true,
            "description": "Skeleton:",
            "description_tooltip": null,
            "disabled": false,
            "layout": "IPY_MODEL_37a07b37dc934f7aade8225bca6521fd",
            "placeholder": "paste here your skeleton",
            "rows": null,
            "style": "IPY_MODEL_a89b3bed4bc74b1bb01db86b021e6d73",
            "value": "1. create resume\n2. find open position\n3. apply"
          }
        },
        "37a07b37dc934f7aade8225bca6521fd": {
          "model_module": "@jupyter-widgets/base",
          "model_name": "LayoutModel",
          "model_module_version": "1.2.0",
          "state": {
            "_model_module": "@jupyter-widgets/base",
            "_model_module_version": "1.2.0",
            "_model_name": "LayoutModel",
            "_view_count": null,
            "_view_module": "@jupyter-widgets/base",
            "_view_module_version": "1.2.0",
            "_view_name": "LayoutView",
            "align_content": null,
            "align_items": null,
            "align_self": null,
            "border": null,
            "bottom": null,
            "display": null,
            "flex": null,
            "flex_flow": null,
            "grid_area": null,
            "grid_auto_columns": null,
            "grid_auto_flow": null,
            "grid_auto_rows": null,
            "grid_column": null,
            "grid_gap": null,
            "grid_row": null,
            "grid_template_areas": null,
            "grid_template_columns": null,
            "grid_template_rows": null,
            "height": "100px",
            "justify_content": null,
            "justify_items": null,
            "left": null,
            "margin": null,
            "max_height": null,
            "max_width": null,
            "min_height": null,
            "min_width": null,
            "object_fit": null,
            "object_position": null,
            "order": null,
            "overflow": null,
            "overflow_x": null,
            "overflow_y": null,
            "padding": null,
            "right": null,
            "top": null,
            "visibility": null,
            "width": "50%"
          }
        },
        "a89b3bed4bc74b1bb01db86b021e6d73": {
          "model_module": "@jupyter-widgets/controls",
          "model_name": "DescriptionStyleModel",
          "model_module_version": "1.5.0",
          "state": {
            "_model_module": "@jupyter-widgets/controls",
            "_model_module_version": "1.5.0",
            "_model_name": "DescriptionStyleModel",
            "_view_count": null,
            "_view_module": "@jupyter-widgets/base",
            "_view_module_version": "1.2.0",
            "_view_name": "StyleView",
            "description_width": ""
          }
        },
        "8d89b5d581d648528fe1e8244b9d43c2": {
          "model_module": "@jupyter-widgets/controls",
          "model_name": "ButtonModel",
          "model_module_version": "1.5.0",
          "state": {
            "_dom_classes": [],
            "_model_module": "@jupyter-widgets/controls",
            "_model_module_version": "1.5.0",
            "_model_name": "ButtonModel",
            "_view_count": null,
            "_view_module": "@jupyter-widgets/controls",
            "_view_module_version": "1.5.0",
            "_view_name": "ButtonView",
            "button_style": "success",
            "description": "Submit",
            "disabled": false,
            "icon": "",
            "layout": "IPY_MODEL_962adefa34fd42468c441da8e101180e",
            "style": "IPY_MODEL_30e0b13b9e8e42e5a1a682d8e11bebdc",
            "tooltip": ""
          }
        },
        "962adefa34fd42468c441da8e101180e": {
          "model_module": "@jupyter-widgets/base",
          "model_name": "LayoutModel",
          "model_module_version": "1.2.0",
          "state": {
            "_model_module": "@jupyter-widgets/base",
            "_model_module_version": "1.2.0",
            "_model_name": "LayoutModel",
            "_view_count": null,
            "_view_module": "@jupyter-widgets/base",
            "_view_module_version": "1.2.0",
            "_view_name": "LayoutView",
            "align_content": null,
            "align_items": null,
            "align_self": null,
            "border": null,
            "bottom": null,
            "display": null,
            "flex": null,
            "flex_flow": null,
            "grid_area": null,
            "grid_auto_columns": null,
            "grid_auto_flow": null,
            "grid_auto_rows": null,
            "grid_column": null,
            "grid_gap": null,
            "grid_row": null,
            "grid_template_areas": null,
            "grid_template_columns": null,
            "grid_template_rows": null,
            "height": null,
            "justify_content": null,
            "justify_items": null,
            "left": null,
            "margin": null,
            "max_height": null,
            "max_width": null,
            "min_height": null,
            "min_width": null,
            "object_fit": null,
            "object_position": null,
            "order": null,
            "overflow": null,
            "overflow_x": null,
            "overflow_y": null,
            "padding": null,
            "right": null,
            "top": null,
            "visibility": null,
            "width": null
          }
        },
        "30e0b13b9e8e42e5a1a682d8e11bebdc": {
          "model_module": "@jupyter-widgets/controls",
          "model_name": "ButtonStyleModel",
          "model_module_version": "1.5.0",
          "state": {
            "_model_module": "@jupyter-widgets/controls",
            "_model_module_version": "1.5.0",
            "_model_name": "ButtonStyleModel",
            "_view_count": null,
            "_view_module": "@jupyter-widgets/base",
            "_view_module_version": "1.2.0",
            "_view_name": "StyleView",
            "button_color": null,
            "font_weight": ""
          }
        }
      }
    }
  },
  "cells": [
    {
      "cell_type": "markdown",
      "source": [
        "# Step 1: Set topics"
      ],
      "metadata": {
        "id": "AMu9SA2BBjIW"
      }
    },
    {
      "cell_type": "code",
      "source": [
        "proposed_topics = \"FAANG interviews, LLM agents\" # @param {type:\"string\", placeholder:\"Enter topics separated by commas\"}"
      ],
      "metadata": {
        "cellView": "form",
        "id": "fBG85zo4Fujo"
      },
      "execution_count": 30,
      "outputs": []
    },
    {
      "cell_type": "code",
      "source": [
        "topics = [item.strip() for item in proposed_topics.split(\",\")]"
      ],
      "metadata": {
        "id": "NnisUD-pGc2c"
      },
      "execution_count": 31,
      "outputs": []
    },
    {
      "cell_type": "markdown",
      "source": [
        "# Step 2: Prepare post ideas"
      ],
      "metadata": {
        "id": "PTkxrbFcBrpP"
      }
    },
    {
      "cell_type": "code",
      "source": [
        "from typing import List\n",
        "\n",
        "def get_ideas_on_topic(topic: str) -> List[str]:\n",
        "    # TODO: call LLM to get ideas\n",
        "    ideas = [\"\"]\n",
        "    return ideas"
      ],
      "metadata": {
        "id": "WWwjIPlfHPIJ"
      },
      "execution_count": 32,
      "outputs": []
    },
    {
      "cell_type": "code",
      "source": [
        "print(\"\\nSuggested post ideas:\")\n",
        "for topic in topics:\n",
        "    print(f\"\\n{topic}:\")\n",
        "    ideas = get_ideas_on_topic(topic)\n",
        "    for idea in ideas:\n",
        "        print(f\" - {idea}\")"
      ],
      "metadata": {
        "colab": {
          "base_uri": "https://localhost:8080/"
        },
        "id": "oXgyGp-FCIPR",
        "outputId": "8a91744e-24de-48fd-c791-beab6a480205"
      },
      "execution_count": 33,
      "outputs": [
        {
          "output_type": "stream",
          "name": "stdout",
          "text": [
            "\n",
            "Suggested post ideas:\n",
            "\n",
            "FAANG interviews:\n",
            " - \n",
            "\n",
            "LLM agents:\n",
            " - \n"
          ]
        }
      ]
    },
    {
      "cell_type": "markdown",
      "source": [
        "# Step 3: Prepare post skeletons"
      ],
      "metadata": {
        "id": "9hB6KFs5CSch"
      }
    },
    {
      "cell_type": "code",
      "source": [
        "def get_skeleton_for_idea(idea: str) -> str:\n",
        "    # TODO: call LLM to get skeletons\n",
        "    skeleton = \"skeleton for idea \" + idea\n",
        "    return skeleton"
      ],
      "metadata": {
        "id": "L4VmfAN6JBJm"
      },
      "execution_count": 36,
      "outputs": []
    },
    {
      "cell_type": "code",
      "source": [
        "selected_idea = \"How to master your resume?\" # @param {type:\"string\", placeholder:\"paste here your idea\"}"
      ],
      "metadata": {
        "id": "bFCh9OhTI2i1"
      },
      "execution_count": 37,
      "outputs": []
    },
    {
      "cell_type": "code",
      "source": [
        "print(f\"\\nSkeleton for '{selected_idea}':\")\n",
        "skeleton = get_skeleton_for_idea(selected_idea)\n",
        "print(skeleton)"
      ],
      "metadata": {
        "colab": {
          "base_uri": "https://localhost:8080/"
        },
        "id": "F86LMwXMJ2Ht",
        "outputId": "81749acf-1a90-4109-cdb9-25674ec551ac"
      },
      "execution_count": 38,
      "outputs": [
        {
          "output_type": "stream",
          "name": "stdout",
          "text": [
            "\n",
            "Skeleton for 'How to master your resume?':\n",
            "skeleton for idea How to master your resume?\n"
          ]
        }
      ]
    },
    {
      "cell_type": "markdown",
      "source": [
        "# Step 4: Prepare post content"
      ],
      "metadata": {
        "id": "l03Lx4O2KLOI"
      }
    },
    {
      "cell_type": "code",
      "source": [
        "def get_content_for_skeleton(skeleton: str) -> str:\n",
        "    # TODO: call LLM to get skeletons\n",
        "    content = \"content for skeleton \" + skeleton\n",
        "    return content"
      ],
      "metadata": {
        "id": "pDaTyow3KO9U"
      },
      "execution_count": 39,
      "outputs": []
    },
    {
      "cell_type": "code",
      "source": [
        "import ipywidgets as widgets\n",
        "from IPython.display import display\n",
        "\n",
        "# Create two textarea widgets\n",
        "textarea1 = widgets.Textarea(\n",
        "    value='',\n",
        "    placeholder='paste here your skeleton',\n",
        "    description='Skeleton:',\n",
        "    layout=widgets.Layout(width='50%', height='100px')\n",
        ")\n",
        "\n",
        "# Create a button widget\n",
        "button = widgets.Button(\n",
        "    description='Submit',\n",
        "    button_style='success'\n",
        ")\n",
        "\n",
        "# Define the button click event\n",
        "def on_button_click(b):\n",
        "    print(f\"\\nContent for selected skeleton:\")\n",
        "    content = get_content_for_skeleton(textarea1.value)\n",
        "    print(content)\n",
        "    #selected_skeleton = textarea1.value\n",
        "    #print(\"Skeleton selected:\")\n",
        "    #print(selected_skeleton)\n",
        "\n",
        "button.on_click(on_button_click)\n",
        "\n",
        "# Display the widgets\n",
        "display(textarea1, button)"
      ],
      "metadata": {
        "colab": {
          "base_uri": "https://localhost:8080/",
          "height": 240,
          "referenced_widgets": [
            "6520cea96c18472e8d181b92a22e596b",
            "37a07b37dc934f7aade8225bca6521fd",
            "a89b3bed4bc74b1bb01db86b021e6d73",
            "8d89b5d581d648528fe1e8244b9d43c2",
            "962adefa34fd42468c441da8e101180e",
            "30e0b13b9e8e42e5a1a682d8e11bebdc"
          ]
        },
        "id": "PdM63m90K-_f",
        "outputId": "5631558d-0b07-416a-974c-1b2960c68d93"
      },
      "execution_count": 50,
      "outputs": [
        {
          "output_type": "display_data",
          "data": {
            "text/plain": [
              "Textarea(value='', description='Skeleton:', layout=Layout(height='100px', width='50%'), placeholder='paste her…"
            ],
            "application/vnd.jupyter.widget-view+json": {
              "version_major": 2,
              "version_minor": 0,
              "model_id": "6520cea96c18472e8d181b92a22e596b"
            }
          },
          "metadata": {}
        },
        {
          "output_type": "display_data",
          "data": {
            "text/plain": [
              "Button(button_style='success', description='Submit', style=ButtonStyle())"
            ],
            "application/vnd.jupyter.widget-view+json": {
              "version_major": 2,
              "version_minor": 0,
              "model_id": "8d89b5d581d648528fe1e8244b9d43c2"
            }
          },
          "metadata": {}
        },
        {
          "output_type": "stream",
          "name": "stdout",
          "text": [
            "\n",
            "Content for selected skeleton:\n",
            "content for skeleton 1. create resume\n",
            "2. find open position\n",
            "3. apply\n"
          ]
        }
      ]
    },
    {
      "cell_type": "code",
      "source": [],
      "metadata": {
        "id": "2WvWhFt3Lz5B"
      },
      "execution_count": null,
      "outputs": []
    }
  ]
}