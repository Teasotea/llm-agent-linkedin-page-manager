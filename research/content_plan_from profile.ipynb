{
 "cells": [
  {
   "cell_type": "code",
   "execution_count": 1,
   "metadata": {},
   "outputs": [],
   "source": [
    "from openai import OpenAI\n",
    "import os \n",
    "\n",
    "OPEN_AI_API_Agentify = os.environ['OPEN_API_KEY']\n",
    "client = OpenAI(api_key=OPEN_AI_API_Agentify)\n"
   ]
  },
  {
   "cell_type": "code",
   "execution_count": null,
   "metadata": {},
   "outputs": [],
   "source": [
    "import json\n",
    "with open('data.json') as f:\n",
    "    data = json.load(f)\n",
    "\n",
    "NEEDED_DATA = ['summary','headline','experience','volunteering','projects']\n",
    "def extract_people_info(data,cols = NEEDED_DATA):\n",
    "    new_data = {}\n",
    "    for i in data.keys():\n",
    "        if i in cols:\n",
    "            if i in ['summary','headline']:\n",
    "                new_data[i] = data[i]\n",
    "            else:\n",
    "                listi = []\n",
    "                for j in range(len(data[i])):\n",
    "                    listi.append(data[i][j]['description'])\n",
    "                new_data[i] = listi\n",
    "    return new_data\n",
    "\n",
    "new_data_info = extract_people_info(data)\n",
    "\n",
    "def turn_list_into_str(listi:list[str])->str:\n",
    "    return '; '.join(listi)"
   ]
  },
  {
   "cell_type": "code",
   "execution_count": null,
   "metadata": {},
   "outputs": [],
   "source": [
    "\n",
    "\n",
    "SYSTEM_PROMT = f\"\"\"Imagine yourself as a LinkedIn content creator. You are writing about <{new_data_info['headline']}>.\n",
    "Your posts may contain references for your professional experience that listed in brackets throught ; <{turn_list_into_str(new_data_info['experience'])}>\n",
    "\"\"\""
   ]
  },
  {
   "cell_type": "code",
   "execution_count": null,
   "metadata": {},
   "outputs": [],
   "source": [
    "\n",
    "def get_response_OpenAI(prompt: str, model_name: str = \"gpt-4o-mini\", max_tokens: int = 20) -> str:\n",
    "    response = client.chat.completions.create(\n",
    "        model=model_name,\n",
    "        messages=[\n",
    "            { \"role\": \"system\", \"content\": SYSTEM_PROMT },\n",
    "            {\n",
    "                \"role\": \"user\",\n",
    "                \"content\": prompt,\n",
    "            }\n",
    "        ],\n",
    "        n=1, # generate only one serponce\n",
    "        temperature=0.0, # to be deterministic (for testing)\n",
    "        max_tokens=max_tokens,  # to make responces shorter\n",
    "        seed=42, # to be deterministic (for testing)\n",
    "    )\n",
    "    return response.choices[0].message.content\n"
   ]
  },
  {
   "cell_type": "code",
   "execution_count": null,
   "metadata": {},
   "outputs": [],
   "source": [
    "\n",
    "\n",
    "CREATE_CONTENT_PLAN_PROMT = f'''Give me a content plan that contains content plan of LinkedinPage. Make sure that you will include both light posts for quick read and big heavy titles that will be divided into several posts. Include into response 12 light titles and 3 that will expand to 3-5 posts. \n",
    "Show this titles in format:\n",
    "1. #Title of post\n",
    "2. #Title of post'''\n",
    "\n"
   ]
  },
  {
   "cell_type": "code",
   "execution_count": 77,
   "metadata": {},
   "outputs": [
    {
     "name": "stdout",
     "output_type": "stream",
     "text": [
      "### LinkedIn Content Plan\n",
      "\n",
      "#### Light Posts (Quick Reads)\n",
      "1. #The Power of AI in EdTech: Transforming Learning Experiences\n",
      "2. #5 Tips for Aspiring Tech Entrepreneurs\n",
      "3. #Why Every Startup Needs a Strong MVP\n",
      "4. #The Future of AI: Trends to Watch in 2024\n",
      "5. #How to Create Engaging Online Learning Content\n",
      "6. #The Role of SaaS in Modern Business Solutions\n",
      "7. #Lessons Learned from My Journey in the 'Mission Possible' Program\n",
      "8. #Top 3 AI Tools Every Entrepreneur Should Know\n",
      "9. #The Importance of User Feedback in Product Development\n",
      "10. #How to Build a Successful Remote Team\n",
      "11. #Exploring the Benefits of AI Music Generation\n",
      "12. #Why Continuous Learning is Key for Entrepreneurs\n",
      "\n",
      "#### Heavy Titles (Expanded into 3-5 Posts)\n",
      "1. #Building AI Solutions: From Concept to Execution\n",
      "   - Post 1: Understanding the AI Development Lifecycle\n",
      "   - Post 2: Key Frameworks for AI Application Development\n",
      "   - Post 3: Case Study: Script-Writing Platform for YouTube Channels\n",
      "   - Post 4: Overcoming Challenges in AI Project Management\n",
      "\n",
      "2. #Navigating the EdTech Landscape: Opportunities and Challenges\n",
      "   - Post 1: Current Trends in EdTech and Their Impact\n",
      "   - Post 2: How AI is Shaping the Future of Education\n",
      "   - Post 3: Building Effective Learning Platforms for Diverse Audiences\n",
      "   - Post 4: The Role of Corporate Training in Skill Development\n",
      "\n",
      "3. #The Science of Relation Extraction: Enhancing Text Analysis\n",
      "   - Post 1: Introduction to Relation Extraction and Its Importance\n",
      "   - Post 2: Techniques for Sentence-Level and Document-Level Extraction\n",
      "   - Post 3: Building a Library for Relation Extraction Pipelines\n",
      "   - Post 4: Real-World Applications of Relation Extraction in AI\n",
      "\n",
      "This content plan aims to engage your audience with a mix of quick, digestible insights and in-depth explorations of complex topics, showcasing your expertise in AI, SaaS, and EdTech.\n"
     ]
    }
   ],
   "source": [
    "print(link)"
   ]
  }
 ],
 "metadata": {
  "kernelspec": {
   "display_name": "env",
   "language": "python",
   "name": "python3"
  },
  "language_info": {
   "codemirror_mode": {
    "name": "ipython",
    "version": 3
   },
   "file_extension": ".py",
   "mimetype": "text/x-python",
   "name": "python",
   "nbconvert_exporter": "python",
   "pygments_lexer": "ipython3",
   "version": "3.12.2"
  }
 },
 "nbformat": 4,
 "nbformat_minor": 2
}
